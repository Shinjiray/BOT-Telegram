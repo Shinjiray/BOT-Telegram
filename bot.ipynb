{
  "cells": [
    {
      "cell_type": "markdown",
      "metadata": {
        "id": "view-in-github",
        "colab_type": "text"
      },
      "source": [
        "<a href=\"https://colab.research.google.com/gist/Shinjiray/ef52ddb08ed45e1c8838a725c0e6b8c1/bot.ipynb\" target=\"_parent\"><img src=\"https://colab.research.google.com/assets/colab-badge.svg\" alt=\"Open In Colab\"/></a>"
      ]
    },
    {
      "cell_type": "code",
      "execution_count": 39,
      "metadata": {
        "colab": {
          "base_uri": "https://localhost:8080/"
        },
        "id": "BoPx6xdfOy_8",
        "outputId": "17ee741c-a358-46b5-cdb0-57248eb1042a"
      },
      "outputs": [
        {
          "output_type": "stream",
          "name": "stdout",
          "text": [
            "Looking in indexes: https://pypi.org/simple, https://us-python.pkg.dev/colab-wheels/public/simple/\n",
            "Requirement already satisfied: scikit-learn in /usr/local/lib/python3.8/dist-packages (1.0.2)\n",
            "Requirement already satisfied: joblib>=0.11 in /usr/local/lib/python3.8/dist-packages (from scikit-learn) (1.2.0)\n",
            "Requirement already satisfied: numpy>=1.14.6 in /usr/local/lib/python3.8/dist-packages (from scikit-learn) (1.21.6)\n",
            "Requirement already satisfied: threadpoolctl>=2.0.0 in /usr/local/lib/python3.8/dist-packages (from scikit-learn) (3.1.0)\n",
            "Requirement already satisfied: scipy>=1.1.0 in /usr/local/lib/python3.8/dist-packages (from scikit-learn) (1.7.3)\n",
            "Looking in indexes: https://pypi.org/simple, https://us-python.pkg.dev/colab-wheels/public/simple/\n",
            "Requirement already satisfied: SpeechRecognition in /usr/local/lib/python3.8/dist-packages (3.9.0)\n",
            "Requirement already satisfied: requests>=2.26.0 in /usr/local/lib/python3.8/dist-packages (from SpeechRecognition) (2.28.1)\n",
            "Requirement already satisfied: certifi>=2017.4.17 in /usr/local/lib/python3.8/dist-packages (from requests>=2.26.0->SpeechRecognition) (2022.9.24)\n",
            "Requirement already satisfied: idna<4,>=2.5 in /usr/local/lib/python3.8/dist-packages (from requests>=2.26.0->SpeechRecognition) (2.10)\n",
            "Requirement already satisfied: urllib3<1.27,>=1.21.1 in /usr/local/lib/python3.8/dist-packages (from requests>=2.26.0->SpeechRecognition) (1.24.3)\n",
            "Requirement already satisfied: charset-normalizer<3,>=2 in /usr/local/lib/python3.8/dist-packages (from requests>=2.26.0->SpeechRecognition) (2.1.1)\n",
            "Looking in indexes: https://pypi.org/simple, https://us-python.pkg.dev/colab-wheels/public/simple/\n",
            "Requirement already satisfied: pyTelegramBotAPI in /usr/local/lib/python3.8/dist-packages (4.8.0)\n",
            "Requirement already satisfied: requests in /usr/local/lib/python3.8/dist-packages (from pyTelegramBotAPI) (2.28.1)\n",
            "Requirement already satisfied: urllib3<1.27,>=1.21.1 in /usr/local/lib/python3.8/dist-packages (from requests->pyTelegramBotAPI) (1.24.3)\n",
            "Requirement already satisfied: idna<4,>=2.5 in /usr/local/lib/python3.8/dist-packages (from requests->pyTelegramBotAPI) (2.10)\n",
            "Requirement already satisfied: charset-normalizer<3,>=2 in /usr/local/lib/python3.8/dist-packages (from requests->pyTelegramBotAPI) (2.1.1)\n",
            "Requirement already satisfied: certifi>=2017.4.17 in /usr/local/lib/python3.8/dist-packages (from requests->pyTelegramBotAPI) (2022.9.24)\n",
            "Looking in indexes: https://pypi.org/simple, https://us-python.pkg.dev/colab-wheels/public/simple/\n",
            "Requirement already satisfied: Wikipedia in /usr/local/lib/python3.8/dist-packages (1.4.0)\n",
            "Requirement already satisfied: beautifulsoup4 in /usr/local/lib/python3.8/dist-packages (from Wikipedia) (4.6.3)\n",
            "Requirement already satisfied: requests<3.0.0,>=2.0.0 in /usr/local/lib/python3.8/dist-packages (from Wikipedia) (2.28.1)\n",
            "Requirement already satisfied: urllib3<1.27,>=1.21.1 in /usr/local/lib/python3.8/dist-packages (from requests<3.0.0,>=2.0.0->Wikipedia) (1.24.3)\n",
            "Requirement already satisfied: charset-normalizer<3,>=2 in /usr/local/lib/python3.8/dist-packages (from requests<3.0.0,>=2.0.0->Wikipedia) (2.1.1)\n",
            "Requirement already satisfied: certifi>=2017.4.17 in /usr/local/lib/python3.8/dist-packages (from requests<3.0.0,>=2.0.0->Wikipedia) (2022.9.24)\n",
            "Requirement already satisfied: idna<4,>=2.5 in /usr/local/lib/python3.8/dist-packages (from requests<3.0.0,>=2.0.0->Wikipedia) (2.10)\n",
            "Looking in indexes: https://pypi.org/simple, https://us-python.pkg.dev/colab-wheels/public/simple/\n",
            "Requirement already satisfied: scikit-learn in /usr/local/lib/python3.8/dist-packages (1.0.2)\n",
            "Requirement already satisfied: scipy>=1.1.0 in /usr/local/lib/python3.8/dist-packages (from scikit-learn) (1.7.3)\n",
            "Requirement already satisfied: threadpoolctl>=2.0.0 in /usr/local/lib/python3.8/dist-packages (from scikit-learn) (3.1.0)\n",
            "Requirement already satisfied: joblib>=0.11 in /usr/local/lib/python3.8/dist-packages (from scikit-learn) (1.2.0)\n",
            "Requirement already satisfied: numpy>=1.14.6 in /usr/local/lib/python3.8/dist-packages (from scikit-learn) (1.21.6)\n",
            "Looking in indexes: https://pypi.org/simple, https://us-python.pkg.dev/colab-wheels/public/simple/\n",
            "Requirement already satisfied: SpeechRecognition in /usr/local/lib/python3.8/dist-packages (3.9.0)\n",
            "Requirement already satisfied: requests>=2.26.0 in /usr/local/lib/python3.8/dist-packages (from SpeechRecognition) (2.28.1)\n",
            "Requirement already satisfied: urllib3<1.27,>=1.21.1 in /usr/local/lib/python3.8/dist-packages (from requests>=2.26.0->SpeechRecognition) (1.24.3)\n",
            "Requirement already satisfied: idna<4,>=2.5 in /usr/local/lib/python3.8/dist-packages (from requests>=2.26.0->SpeechRecognition) (2.10)\n",
            "Requirement already satisfied: certifi>=2017.4.17 in /usr/local/lib/python3.8/dist-packages (from requests>=2.26.0->SpeechRecognition) (2022.9.24)\n",
            "Requirement already satisfied: charset-normalizer<3,>=2 in /usr/local/lib/python3.8/dist-packages (from requests>=2.26.0->SpeechRecognition) (2.1.1)\n"
          ]
        }
      ],
      "source": [
        "!pip install pyTelegramBotAPI\n",
        "!pip install Wikipedia\n",
        "!pip install scikit-learn\n",
        "!pip install SpeechRecognition\n",
        "\n",
        "     \n",
        "     "
      ]
    },
    {
      "cell_type": "code",
      "execution_count": 40,
      "metadata": {
        "id": "AWlz6RKJ9Z9G"
      },
      "outputs": [],
      "source": [
        "\n",
        "import speech_recognition as sr\n",
        "import os\n",
        "import datetime\n",
        "import subprocess\n",
        "import requests"
      ]
    },
    {
      "cell_type": "code",
      "execution_count": 41,
      "metadata": {
        "id": "UAoLu3VB96ZG"
      },
      "outputs": [],
      "source": [
        "\n",
        "logfile = str(datetime.date.today()) + '.log'\n"
      ]
    },
    {
      "cell_type": "code",
      "execution_count": 42,
      "metadata": {
        "id": "0bo2q9Z2QhYS"
      },
      "outputs": [],
      "source": [
        "import telebot, wikipedia, re\n",
        "from sklearn.feature_extraction.text import CountVectorizer\n",
        "from sklearn.linear_model import LogisticRegression\n",
        "\n",
        "wikipedia.set_lang(\"ru\")\n",
        "bot = telebot.TeleBot('5458889901:AAG4gDqEGC1rzBOFqz_sC9gUqb8psJQLx_M')"
      ]
    },
    {
      "cell_type": "code",
      "execution_count": 43,
      "metadata": {
        "id": "GHZ82axv6rWW"
      },
      "outputs": [],
      "source": [
        "def clean_str(r):\n",
        "\tr = r.lower()\n",
        "\tr = [c for c in r if c in alphabet]\n",
        "\treturn ''.join(r)\n",
        "\n",
        "alphabet = ' 1234567890-йцукенгшщзхъфывапролджэячсмитьбюёqwertyuiopasdfghjklzxcvbnm?%.,()!:;'\n"
      ]
    },
    {
      "cell_type": "code",
      "execution_count": 44,
      "metadata": {
        "id": "kQ0bl3is4J68"
      },
      "outputs": [],
      "source": [
        "def update():\n",
        "\twith open('dialogues.txt', encoding='utf-8') as f:\n",
        "\t\tcontent = f.read()\n",
        "\t\n",
        "\tblocks = content.split('\\n')\n",
        "\tdataset = []\n",
        "\t\n",
        "\tfor block in blocks:\n",
        "\t\treplicas = block.split('\\\\')[:2]\n",
        "\t\tif len(replicas) == 2:\n",
        "\t\t\tpair = [clean_str(replicas[0]), clean_str(replicas[1])]\n",
        "\t\t\tif pair[0] and pair[1]:\n",
        "\t\t\t\tdataset.append(pair)\n",
        "\t\n",
        "\tX_text = []\n",
        "\ty = []\n",
        "\t\n",
        "\tfor question, answer in dataset[:10000]:\n",
        "\t\tX_text.append(question)\n",
        "\t\ty += [answer]\n",
        "\t\n",
        "\tglobal vectorizer\n",
        "\tvectorizer = CountVectorizer()\n",
        "\tX = vectorizer.fit_transform(X_text)\n",
        "\t\n",
        "\tglobal clf\n",
        "\tclf = LogisticRegression()\n",
        "\tclf.fit(X, y)\n",
        "\n",
        "update()\n"
      ]
    },
    {
      "cell_type": "code",
      "execution_count": 45,
      "metadata": {
        "id": "Be1jY_SdQgn2"
      },
      "outputs": [],
      "source": [
        "def get_generative_replica(text):\n",
        "\ttext_vector = vectorizer.transform([text]).toarray()[0]\n",
        "\tquestion = clf.predict([text_vector])[0]\n",
        "\treturn question"
      ]
    },
    {
      "cell_type": "code",
      "execution_count": 46,
      "metadata": {
        "id": "cKtqIx5DQ99w"
      },
      "outputs": [],
      "source": [
        "def getwiki(s):\n",
        "    try:\n",
        "        ny = wikipedia.page(s)\n",
        "        wikitext=ny.content[:1000]\n",
        "        wikimas=wikitext.split('.')\n",
        "        wikimas = wikimas[:-1]\n",
        "        wikitext2 = ''\n",
        "        for x in wikimas:\n",
        "            if not('==' in x):\n",
        "                if(len((x.strip()))>3):\n",
        "                   wikitext2=wikitext2+x+'.'\n",
        "            else:\n",
        "                break\n",
        "        wikitext2=re.sub('\\([^()]*\\)', '', wikitext2)\n",
        "        wikitext2=re.sub('\\([^()]*\\)', '', wikitext2)\n",
        "        wikitext2=re.sub('\\{[^\\{\\}]*\\}', '', wikitext2)\n",
        "        return wikitext2\n",
        "    except Exception as e:\n",
        "        return 'В Википедии нет информации об этом'\n",
        "\n"
      ]
    },
    {
      "cell_type": "code",
      "execution_count": 47,
      "metadata": {
        "id": "i4cr9MyEb563"
      },
      "outputs": [],
      "source": [
        "@bot.message_handler(commands=['start'])\n",
        "def start_message(message):\n",
        "\tbot.send_message(message.chat.id,\"Здравствуйте, Сэр.\")\n",
        "\n",
        "question = \"\"\n",
        "\n",
        "@bot.message_handler(content_types=['text'])\n",
        "def get_text_messages(message):\n",
        "\tcommand = message.text.lower()\n",
        "\tif command ==\"не так\":\n",
        "\t\tbot.send_message(message.from_user.id, \"а как?\")\n",
        "\t\tbot.register_next_step_handler(message, wrong)\n",
        "\telse:\n",
        "\t\tglobal question\n",
        "\t\tquestion = command\n",
        "\t\treply = get_generative_replica(command)\n",
        "\t\tif reply==\"вики \":\n",
        "\t\t\tbot.send_message(message.from_user.id, getwiki(command))\n",
        "\t\telse:\n",
        "\t\t\tbot.send_message(message.from_user.id, reply)\n",
        "\n",
        "def wrong(message):\n",
        "\ta = f\"{question}\\{message.text.lower()} \\n\"\n",
        "\twith open('dialogues.txt', \"a\", encoding='utf-8') as f:\n",
        "\t\tf.write(a)\n",
        "\tbot.send_message(message.from_user.id, \"Готово\")\n",
        "\tupdate()"
      ]
    },
    {
      "cell_type": "code",
      "execution_count": 48,
      "metadata": {
        "id": "QWVrNk2g73qg"
      },
      "outputs": [],
      "source": [
        "@bot.message_handler(content_types=['voice'])\n",
        "def get_audio_messages(message):\n",
        "\n",
        "    try:\n",
        "        print(\"Started recognition...\")\n",
        "\n",
        "        file_info = bot.get_file(message.voice.file_id)\n",
        "        path = os.path.splitext(file_info.file_path)[0]\n",
        "        fname = os.path.basename(path) \n",
        "        doc = requests.get('https://api.telegram.org/file/bot{0}/{1}'.format('5458889901:AAG4gDqEGC1rzBOFqz_sC9gUqb8psJQLx_M', file_info.file_path))\n",
        "        with open(fname+'.oga', 'wb') as f:\n",
        "            f.write(doc.content)\n",
        "        process = subprocess.run(['ffmpeg', '-i', fname+'.oga', fname+'.wav'])\n",
        "        result = audio_to_text(fname+'.wav') \n",
        "        question = get_generative_replica(format(result))\n",
        "        bot.reply_to(message, question)\n",
        "    except sr.UnknownValueError as e:\n",
        "        bot.send_message(message.from_user.id,  \"Прошу прощения, но я не разобрал сообщение...\")\n",
        "        with open(logfile, 'a', encoding='utf-8') as f:\n",
        "            f.write(str(datetime.datetime.today().strftime(\"%H:%M:%S\")) + ':' + str(message.from_user.id) + ':' + str(message.from_user.first_name) + '_' + str(message.from_user.last_name) + ':' + str(message.from_user.username) +':'+ str(message.from_user.language_code) + ':Message is empty.\\n')\n",
        "    except Exception as e:\n",
        "        bot.send_message(message.from_user.id,  \"Что-то пошло не так...\")\n",
        "        \n",
        "        with open(logfile, 'a', encoding='utf-8') as f:\n",
        "            f.write(str(datetime.datetime.today().strftime(\"%H:%M:%S\")) + ':' + str(message.from_user.id) + ':' + str(message.from_user.first_name) + '_' + str(message.from_user.last_name) + ':' + str(message.from_user.username) +':'+ str(message.from_user.language_code) +':' + str(e) + '\\n')\n",
        "    finally:\n",
        "        os.remove(fname+'.wav')\n",
        "        os.remove(fname+'.oga')"
      ]
    },
    {
      "cell_type": "code",
      "execution_count": 49,
      "metadata": {
        "id": "U0enLr_S74Tw"
      },
      "outputs": [],
      "source": [
        "def audio_to_text(dest_name: str):\n",
        "    r = sr.Recognizer()\n",
        "    message = sr.AudioFile(dest_name)\n",
        "    with message as source:\n",
        "        audio = r.record(source)\n",
        "    result = r.recognize_google(audio, language=\"ru_RU\")\n",
        "    return result"
      ]
    },
    {
      "cell_type": "code",
      "execution_count": 50,
      "metadata": {
        "colab": {
          "base_uri": "https://localhost:8080/"
        },
        "id": "gnCGyXUbSMHE",
        "outputId": "4a777dd1-6ae2-4c63-9ded-63a19134435e"
      },
      "outputs": [
        {
          "output_type": "stream",
          "name": "stdout",
          "text": [
            "Started recognition...\n",
            "result2:\n",
            "{   'alternative': [{'confidence': 0.95275831, 'transcript': 'Привет'}],\n",
            "    'final': True}\n",
            "Started recognition...\n",
            "result2:\n",
            "{   'alternative': [{'confidence': 0.95275831, 'transcript': 'Как дела'}],\n",
            "    'final': True}\n",
            "Started recognition...\n",
            "result2:\n",
            "{   'alternative': [{'confidence': 0.95275831, 'transcript': 'Привет'}],\n",
            "    'final': True}\n",
            "Started recognition...\n",
            "result2:\n",
            "{   'alternative': [   {   'confidence': 0.85065842,\n",
            "                           'transcript': 'Кто такой линь'},\n",
            "                       {'transcript': 'Кто такой лень'},\n",
            "                       {'transcript': 'что такое лень'},\n",
            "                       {'transcript': 'Кто такой Лёня'},\n",
            "                       {'transcript': 'кто такой Ленин'}],\n",
            "    'final': True}\n",
            "Started recognition...\n",
            "result2:\n",
            "{   'alternative': [   {'confidence': 0.85912812, 'transcript': 'кто такой'},\n",
            "                       {'transcript': 'кто такая'},\n",
            "                       {'transcript': 'Что такое'},\n",
            "                       {'transcript': 'а кто такой'}],\n",
            "    'final': True}\n",
            "Started recognition...\n",
            "result2:\n",
            "{   'alternative': [   {'confidence': 0.93899119, 'transcript': 'кто такой'},\n",
            "                       {'transcript': 'кто такая'},\n",
            "                       {'transcript': 'Что такое'},\n",
            "                       {'transcript': 'а кто такой'}],\n",
            "    'final': True}\n",
            "Started recognition...\n",
            "result2:\n",
            "{   'alternative': [{'confidence': 0.95275831, 'transcript': 'Привет'}],\n",
            "    'final': True}\n"
          ]
        }
      ],
      "source": [
        "bot.polling(none_stop=True)"
      ]
    },
    {
      "cell_type": "code",
      "execution_count": 49,
      "metadata": {
        "id": "LYuwkKfMhZXE"
      },
      "outputs": [],
      "source": []
    }
  ],
  "metadata": {
    "colab": {
      "provenance": [],
      "mount_file_id": "1rnuYBb6epMnnQEakCXnNdpFzrx2OHvLb",
      "authorship_tag": "ABX9TyPHyCn91hYozPxnjR0wLwHj",
      "include_colab_link": true
    },
    "kernelspec": {
      "display_name": "Python 3",
      "name": "python3"
    },
    "language_info": {
      "name": "python"
    }
  },
  "nbformat": 4,
  "nbformat_minor": 0
}